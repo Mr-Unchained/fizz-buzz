{
 "cells": [
  {
   "cell_type": "code",
   "execution_count": 1,
   "metadata": {},
   "outputs": [
    {
     "output_type": "stream",
     "name": "stdout",
     "text": [
      "fizz\nnot_divisable\nnot a number\n"
     ]
    }
   ],
   "source": [
    "def fizz_buzz(no):\n",
    "    if no %3 == 0:\n",
    "        return 'fizz'\n",
    "    elif no %5 == 0:\n",
    "        return 'buzz'\n",
    "    elif no %3 == 0 and no %5 == 0:\n",
    "        return 'fizzbuzz'\n",
    "    else:\n",
    "        return 'not_divisable'\n",
    "\n",
    "enter = input('enter no:')\n",
    "if enter.isdigit():\n",
    "    no = int(enter)\n",
    "\n",
    "for i in range(0,no):\n",
    "    a = fizz_buzz(i)\n",
    "    print(a)\n",
    "else:\n",
    "    print(\"not a number\")"
   ]
  },
  {
   "cell_type": "code",
   "execution_count": 2,
   "metadata": {},
   "outputs": [
    {
     "output_type": "execute_result",
     "data": {
      "text/plain": [
       "'fizz'"
      ]
     },
     "metadata": {},
     "execution_count": 2
    }
   ],
   "source": [
    "def fizz_buzz(no):\n",
    "    if no %3 == 0:\n",
    "        return 'fizz'\n",
    "    elif no %5 == 0:\n",
    "        return 'buzz'\n",
    "    elif no %3 == 0 and no %5 == 0:\n",
    "        return 'fizzbuzz'\n",
    "    else:\n",
    "        return 'not_divisable,input new number'\n",
    "no = int(input('enter no:'))\n",
    "fizz_buzz(no)"
   ]
  },
  {
   "cell_type": "code",
   "execution_count": null,
   "metadata": {},
   "outputs": [],
   "source": []
  }
 ],
 "metadata": {
  "kernelspec": {
   "name": "python385jvsc74a57bd00173fb17ca097bf6856f73fbc0f27071cb6ccdb016ff8f9fc2bbc9f407f85a2f",
   "display_name": "Python 3.8.5 64-bit ('base': conda)"
  },
  "language_info": {
   "codemirror_mode": {
    "name": "ipython",
    "version": 3
   },
   "file_extension": ".py",
   "mimetype": "text/x-python",
   "name": "python",
   "nbconvert_exporter": "python",
   "pygments_lexer": "ipython3",
   "version": "3.8.5"
  }
 },
 "nbformat": 4,
 "nbformat_minor": 4
}